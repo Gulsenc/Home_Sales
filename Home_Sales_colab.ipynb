{
  "cells": [
    {
      "cell_type": "code",
      "execution_count": null,
      "metadata": {
        "colab": {
          "base_uri": "https://localhost:8080/"
        },
        "id": "a_KW73O2e3dw",
        "outputId": "cd26184f-5e02-472a-af37-ae6b1b25f8a8"
      },
      "outputs": [
        {
          "output_type": "stream",
          "name": "stdout",
          "text": [
            "\r0% [Working]\r            \rHit:1 http://security.ubuntu.com/ubuntu jammy-security InRelease\n",
            "\r0% [Waiting for headers] [Waiting for headers] [Connected to r2u.stat.illinois.edu (192.17.190.167)]\r                                                                                                    \rHit:2 https://cloud.r-project.org/bin/linux/ubuntu jammy-cran40/ InRelease\n",
            "\r0% [Waiting for headers] [Connected to r2u.stat.illinois.edu (192.17.190.167)] [Waiting for headers]\r                                                                                                    \rHit:3 http://archive.ubuntu.com/ubuntu jammy InRelease\n",
            "\r0% [Connected to r2u.stat.illinois.edu (192.17.190.167)] [Waiting for headers] [Connecting to ppa.la\r                                                                                                    \rHit:4 http://archive.ubuntu.com/ubuntu jammy-updates InRelease\n",
            "\r0% [Waiting for headers] [Waiting for headers] [Waiting for headers] [Connected to ppa.launchpadcont\r                                                                                                    \rHit:5 https://developer.download.nvidia.com/compute/cuda/repos/ubuntu2204/x86_64  InRelease\n",
            "\r0% [Waiting for headers] [Waiting for headers] [Connected to ppa.launchpadcontent.net (185.125.190.8\r                                                                                                    \rHit:6 http://archive.ubuntu.com/ubuntu jammy-backports InRelease\n",
            "\r                                                                                                    \r0% [Waiting for headers] [Connected to ppa.launchpadcontent.net (185.125.190.80)]\r                                                                                 \rIgn:7 https://r2u.stat.illinois.edu/ubuntu jammy InRelease\n",
            "Hit:8 https://r2u.stat.illinois.edu/ubuntu jammy Release\n",
            "Hit:9 https://ppa.launchpadcontent.net/deadsnakes/ppa/ubuntu jammy InRelease\n",
            "Hit:10 https://ppa.launchpadcontent.net/graphics-drivers/ppa/ubuntu jammy InRelease\n",
            "Hit:11 https://ppa.launchpadcontent.net/ubuntugis/ppa/ubuntu jammy InRelease\n",
            "Reading package lists... Done\n",
            "W: Skipping acquire of configured file 'main/source/Sources' as repository 'https://r2u.stat.illinois.edu/ubuntu jammy InRelease' does not seem to provide it (sources.list entry misspelt?)\n"
          ]
        }
      ],
      "source": [
        "import os\n",
        "# Find the latest version of spark 3.x  from http://www.apache.org/dist/spark/ and enter as the spark version\n",
        "# For example:\n",
        "# Set the Spark version you want to install\n",
        "spark_version = 'spark-3.5.2'\n",
        "os.environ['SPARK_VERSION'] = spark_version\n",
        "\n",
        "# Install Java and Spark\n",
        "!apt-get update\n",
        "!apt-get install openjdk-11-jdk-headless -qq > /dev/null\n",
        "!wget -q https://downloads.apache.org/spark/$SPARK_VERSION/$SPARK_VERSION-bin-hadoop3.tgz\n",
        "!tar xf $SPARK_VERSION-bin-hadoop3.tgz\n",
        "!pip install -q findspark\n",
        "\n",
        "# Set environment variables\n",
        "os.environ[\"JAVA_HOME\"] = \"/usr/lib/jvm/java-11-openjdk-amd64\"\n",
        "os.environ[\"SPARK_HOME\"] = f\"/content/{spark_version}-bin-hadoop3\"\n",
        "\n",
        "# Initialize findspark\n",
        "import findspark\n",
        "findspark.init()\n"
      ]
    },
    {
      "cell_type": "code",
      "execution_count": null,
      "metadata": {
        "id": "2XbWNf1Te5fM"
      },
      "outputs": [],
      "source": [
        "# Import packages\n",
        "from pyspark.sql import SparkSession\n",
        "import time\n",
        "\n",
        "# Create a SparkSession\n",
        "spark = SparkSession.builder.appName(\"SparkSQL\").getOrCreate()"
      ]
    },
    {
      "cell_type": "code",
      "execution_count": null,
      "metadata": {
        "id": "wOJqxG_RPSwp"
      },
      "outputs": [],
      "source": [
        "# 1. Read in the AWS S3 bucket into a DataFrame.\n",
        "from pyspark import SparkFiles\n",
        "url = \"https://2u-data-curriculum-team.s3.amazonaws.com/dataviz-classroom/v1.2/22-big-data/home_sales_revised.csv\"\n",
        "\n"
      ]
    },
    {
      "cell_type": "code",
      "execution_count": null,
      "metadata": {
        "id": "RoljcJ7WPpnm"
      },
      "outputs": [],
      "source": [
        "# 2. Create a temporary view of the DataFrame.\n",
        "\n",
        "spark.sparkContext.addFile(url)\n",
        "df = spark.read.csv(SparkFiles.get(\"home_sales_revised.csv\"), header=True, inferSchema=True, quote=\"\\\"\", escape=\"\\\"\")\n",
        "\n",
        "df.createOrReplaceTempView('home_sales')\n",
        "\n"
      ]
    },
    {
      "cell_type": "code",
      "execution_count": null,
      "metadata": {
        "id": "L6fkwOeOmqvq",
        "colab": {
          "base_uri": "https://localhost:8080/"
        },
        "outputId": "44e8f163-6dbc-45fa-abe5-7a560ef7aadd"
      },
      "outputs": [
        {
          "output_type": "stream",
          "name": "stdout",
          "text": [
            "+----+-------------+\n",
            "|Year|Average_Price|\n",
            "+----+-------------+\n",
            "|2019|300263.7     |\n",
            "|2020|298353.78    |\n",
            "|2021|301819.44    |\n",
            "|2022|296363.88    |\n",
            "+----+-------------+\n",
            "\n"
          ]
        }
      ],
      "source": [
        "# 3. What is the average price for a four bedroom house sold per year, rounded to two decimal places?\n",
        "spark.sql(\"\"\"\n",
        "SELECT\n",
        "    year(date) AS Year,\n",
        "    ROUND(AVG(price), 2) AS Average_Price\n",
        "FROM\n",
        "    home_sales\n",
        "WHERE\n",
        "    bedrooms = 4\n",
        "GROUP BY\n",
        "    Year\n",
        "ORDER BY\n",
        "    Year\n",
        "\"\"\").show(truncate=False)\n",
        "\n"
      ]
    },
    {
      "cell_type": "code",
      "execution_count": null,
      "metadata": {
        "id": "l8p_tUS8h8it",
        "colab": {
          "base_uri": "https://localhost:8080/"
        },
        "outputId": "a57c4a6a-85fe-48f6-d04e-97ccec89eb8e"
      },
      "outputs": [
        {
          "output_type": "stream",
          "name": "stdout",
          "text": [
            "+----------+-------------+\n",
            "|Year_Built|Average_Price|\n",
            "+----------+-------------+\n",
            "|2010      |292859.62    |\n",
            "|2011      |291117.47    |\n",
            "|2012      |293683.19    |\n",
            "|2013      |295962.27    |\n",
            "|2014      |290852.27    |\n",
            "|2015      |288770.3     |\n",
            "|2016      |290555.07    |\n",
            "|2017      |292676.79    |\n",
            "+----------+-------------+\n",
            "\n"
          ]
        }
      ],
      "source": [
        "# 4. What is the average price of a home for each year the home was built,\n",
        "# that have 3 bedrooms and 3 bathrooms, rounded to two decimal places?\n",
        "spark.sql(\"\"\"\n",
        "SELECT\n",
        "    date_built AS Year_Built,\n",
        "    ROUND(AVG(price), 2) AS Average_Price\n",
        "FROM\n",
        "    home_sales\n",
        "WHERE\n",
        "    bedrooms = 3 AND bathrooms = 3\n",
        "GROUP BY\n",
        "    Year_Built\n",
        "ORDER BY\n",
        "    Year_Built\n",
        "\"\"\").show(truncate=False)\n"
      ]
    },
    {
      "cell_type": "code",
      "execution_count": null,
      "metadata": {
        "id": "Y-Eytz64liDU",
        "colab": {
          "base_uri": "https://localhost:8080/"
        },
        "outputId": "6da23655-3ea1-4318-8031-5d3f571b5a8e"
      },
      "outputs": [
        {
          "output_type": "stream",
          "name": "stdout",
          "text": [
            "+----------+-------------+\n",
            "|Year_Built|Average_Price|\n",
            "+----------+-------------+\n",
            "|2010      |285010.22    |\n",
            "|2011      |276553.81    |\n",
            "|2012      |307539.97    |\n",
            "|2013      |303676.79    |\n",
            "|2014      |298264.72    |\n",
            "|2015      |297609.97    |\n",
            "|2016      |293965.1     |\n",
            "|2017      |280317.58    |\n",
            "+----------+-------------+\n",
            "\n"
          ]
        }
      ],
      "source": [
        "# 5. What is the average price of a home for each year the home was built,\n",
        "# that have 3 bedrooms, 3 bathrooms, with two floors,\n",
        "# and are greater than or equal to 2,000 square feet, rounded to two decimal places?\n",
        "spark.sql(\"\"\"\n",
        "SELECT\n",
        "    date_built AS Year_Built,\n",
        "    ROUND(AVG(price), 2) AS Average_Price\n",
        "FROM\n",
        "    home_sales\n",
        "WHERE\n",
        "    bedrooms = 3\n",
        "    AND bathrooms = 3\n",
        "    AND floors = 2\n",
        "    AND sqft_living >= 2000\n",
        "GROUP BY\n",
        "    Year_Built\n",
        "ORDER BY\n",
        "    Year_Built\n",
        "\"\"\").show(truncate=False)\n"
      ]
    },
    {
      "cell_type": "code",
      "execution_count": null,
      "metadata": {
        "colab": {
          "base_uri": "https://localhost:8080/"
        },
        "id": "GUrfgOX1pCRd",
        "outputId": "2803fff5-154f-4743-bfdd-f8939b37d8df"
      },
      "outputs": [
        {
          "output_type": "stream",
          "name": "stdout",
          "text": [
            "+-----------+-------------+\n",
            "|View_Rating|Average_Price|\n",
            "+-----------+-------------+\n",
            "|100        |1026669.5    |\n",
            "|99         |1061201.42   |\n",
            "|98         |1053739.33   |\n",
            "|97         |1129040.15   |\n",
            "|96         |1017815.92   |\n",
            "|95         |1054325.6    |\n",
            "|94         |1033536.2    |\n",
            "|93         |1026006.06   |\n",
            "|92         |970402.55    |\n",
            "|91         |1137372.73   |\n",
            "|90         |1062654.16   |\n",
            "|89         |1107839.15   |\n",
            "|88         |1031719.35   |\n",
            "|87         |1072285.2    |\n",
            "|86         |1070444.25   |\n",
            "|85         |1056336.74   |\n",
            "|84         |1117233.13   |\n",
            "|83         |1033965.93   |\n",
            "|82         |1063498.0    |\n",
            "|81         |1053472.79   |\n",
            "+-----------+-------------+\n",
            "only showing top 20 rows\n",
            "\n",
            "--- 1.0432865619659424 seconds ---\n"
          ]
        }
      ],
      "source": [
        "# 6. What is the average price of a home per \"view\" rating, rounded to two decimal places,\n",
        "# having an average home price greater than or equal to $350,000? Order by descending view rating.\n",
        "# Although this is a small dataset, determine the run time for this query.\n",
        "\n",
        "start_time = time.time()\n",
        "spark.sql(\"\"\"\n",
        "SELECT\n",
        "    view AS View_Rating,\n",
        "    ROUND(AVG(price), 2) AS Average_Price\n",
        "FROM\n",
        "    home_sales\n",
        "GROUP BY\n",
        "    View_Rating\n",
        "HAVING\n",
        "    Average_Price >= 350000\n",
        "ORDER BY\n",
        "    View_Rating DESC\n",
        "\"\"\").show(truncate=False)\n",
        "\n",
        "\n",
        "print(\"--- %s seconds ---\" % (time.time() - start_time))"
      ]
    },
    {
      "cell_type": "code",
      "execution_count": null,
      "metadata": {
        "id": "KAhk3ZD2tFy8"
      },
      "outputs": [],
      "source": [
        "# 7. Cache the the temporary table home_sales.\n",
        "spark.catalog.cacheTable(\"home_sales\")\n"
      ]
    },
    {
      "cell_type": "code",
      "execution_count": null,
      "metadata": {
        "id": "4opVhbvxtL-i",
        "colab": {
          "base_uri": "https://localhost:8080/"
        },
        "outputId": "619179d0-ec33-425b-965e-d1399b33c4ff"
      },
      "outputs": [
        {
          "output_type": "execute_result",
          "data": {
            "text/plain": [
              "True"
            ]
          },
          "metadata": {},
          "execution_count": 14
        }
      ],
      "source": [
        "# 8. Check if the table is cached.\n",
        "spark.catalog.isCached('home_sales')"
      ]
    },
    {
      "cell_type": "code",
      "execution_count": null,
      "metadata": {
        "colab": {
          "base_uri": "https://localhost:8080/"
        },
        "id": "5GnL46lwTSEk",
        "outputId": "3956c0b2-198e-4cea-b2ab-998acc3c48ec"
      },
      "outputs": [
        {
          "output_type": "stream",
          "name": "stdout",
          "text": [
            "+-----------+-------------+\n",
            "|View_Rating|Average_Price|\n",
            "+-----------+-------------+\n",
            "|100        |1026669.5    |\n",
            "|99         |1061201.42   |\n",
            "|98         |1053739.33   |\n",
            "|97         |1129040.15   |\n",
            "|96         |1017815.92   |\n",
            "|95         |1054325.6    |\n",
            "|94         |1033536.2    |\n",
            "|93         |1026006.06   |\n",
            "|92         |970402.55    |\n",
            "|91         |1137372.73   |\n",
            "|90         |1062654.16   |\n",
            "|89         |1107839.15   |\n",
            "|88         |1031719.35   |\n",
            "|87         |1072285.2    |\n",
            "|86         |1070444.25   |\n",
            "|85         |1056336.74   |\n",
            "|84         |1117233.13   |\n",
            "|83         |1033965.93   |\n",
            "|82         |1063498.0    |\n",
            "|81         |1053472.79   |\n",
            "+-----------+-------------+\n",
            "only showing top 20 rows\n",
            "\n",
            "--- 2.8917877674102783 seconds ---\n"
          ]
        }
      ],
      "source": [
        "# 9. Using the cached data, run the last query above, that calculates\n",
        "# the average price of a home per \"view\" rating, rounded to two decimal places,\n",
        "# having an average home price greater than or equal to $350,000.\n",
        "# Determine the runtime and compare it to the uncached runtime.\n",
        "\n",
        "start_time = time.time()\n",
        "spark.sql(\"\"\"\n",
        "SELECT\n",
        "    view AS View_Rating,\n",
        "    ROUND(AVG(price), 2) AS Average_Price\n",
        "FROM\n",
        "    home_sales\n",
        "GROUP BY\n",
        "    View_Rating\n",
        "HAVING\n",
        "    Average_Price >= 350000\n",
        "ORDER BY\n",
        "    View_Rating DESC\n",
        "\"\"\").show(truncate=False)\n",
        "\n",
        "\n",
        "\n",
        "print(\"--- %s seconds ---\" % (time.time() - start_time))\n"
      ]
    },
    {
      "cell_type": "code",
      "execution_count": null,
      "metadata": {
        "id": "Qm12WN9isHBR"
      },
      "outputs": [],
      "source": [
        "# 10. Partition by the \"date_built\" field on the formatted parquet home sales data\n",
        "df.write.partitionBy(\"date_built\").parquet('home_sales', mode='overwrite')\n"
      ]
    },
    {
      "cell_type": "code",
      "execution_count": null,
      "metadata": {
        "id": "AZ7BgY61sRqY"
      },
      "outputs": [],
      "source": [
        "# 11. Read the parquet formatted data.\n",
        "p_df = spark.read.parquet('home_sales')\n"
      ]
    },
    {
      "cell_type": "code",
      "execution_count": null,
      "metadata": {
        "id": "J6MJkHfvVcvh"
      },
      "outputs": [],
      "source": [
        "# 12. Create a temporary table for the parquet data.\n",
        "p_df.createOrReplaceTempView('parquet_home_sales')\n"
      ]
    },
    {
      "cell_type": "code",
      "execution_count": null,
      "metadata": {
        "colab": {
          "base_uri": "https://localhost:8080/"
        },
        "id": "G_Vhb52rU1Sn",
        "outputId": "f2e2d5d5-3a38-4b4d-eb9a-daeb435ac82c"
      },
      "outputs": [
        {
          "output_type": "stream",
          "name": "stdout",
          "text": [
            "+-----------+-------------+\n",
            "|View_Rating|Average_Price|\n",
            "+-----------+-------------+\n",
            "|100        |1026669.5    |\n",
            "|99         |1061201.42   |\n",
            "|98         |1053739.33   |\n",
            "|97         |1129040.15   |\n",
            "|96         |1017815.92   |\n",
            "|95         |1054325.6    |\n",
            "|94         |1033536.2    |\n",
            "|93         |1026006.06   |\n",
            "|92         |970402.55    |\n",
            "|91         |1137372.73   |\n",
            "|90         |1062654.16   |\n",
            "|89         |1107839.15   |\n",
            "|88         |1031719.35   |\n",
            "|87         |1072285.2    |\n",
            "|86         |1070444.25   |\n",
            "|85         |1056336.74   |\n",
            "|84         |1117233.13   |\n",
            "|83         |1033965.93   |\n",
            "|82         |1063498.0    |\n",
            "|81         |1053472.79   |\n",
            "+-----------+-------------+\n",
            "only showing top 20 rows\n",
            "\n",
            "--- 0.9183156490325928 seconds ---\n"
          ]
        }
      ],
      "source": [
        "# 13. Using the parquet DataFrame, run the last query above, that calculates\n",
        "# the average price of a home per \"view\" rating, rounded to two decimal places,\n",
        "# having an average home price greater than or equal to $350,000.\n",
        "# Determine the runtime and compare it to the cached runtime.\n",
        "\n",
        "start_time = time.time()\n",
        "\n",
        "spark.sql(\"\"\"\n",
        "SELECT\n",
        "    view AS View_Rating,\n",
        "    ROUND(AVG(price), 2) AS Average_Price\n",
        "FROM\n",
        "    parquet_home_sales\n",
        "GROUP BY\n",
        "    View_Rating\n",
        "HAVING\n",
        "    Average_Price >= 350000\n",
        "ORDER BY\n",
        "    View_Rating DESC\n",
        "\"\"\").show(truncate=False)\n",
        "\n",
        "print(\"--- %s seconds ---\" % (time.time() - start_time))"
      ]
    },
    {
      "cell_type": "code",
      "execution_count": null,
      "metadata": {
        "id": "hjjYzQGjtbq8"
      },
      "outputs": [],
      "source": [
        "# 14. Uncache the home_sales temporary table.\n",
        "\n",
        "spark.catalog.uncacheTable('home_sales')\n"
      ]
    },
    {
      "cell_type": "code",
      "execution_count": null,
      "metadata": {
        "id": "Sy9NBvO7tlmm",
        "colab": {
          "base_uri": "https://localhost:8080/"
        },
        "outputId": "be93490b-1385-41d7-9e74-030c0134056d"
      },
      "outputs": [
        {
          "output_type": "stream",
          "name": "stdout",
          "text": [
            "Is 'home_sales' table cached? False\n"
          ]
        }
      ],
      "source": [
        "# 15. Check if the home_sales is no longer cached\n",
        "is_cached = spark.catalog.isCached('home_sales')\n",
        "print(f\"Is 'home_sales' table cached? {is_cached}\")\n"
      ]
    },
    {
      "cell_type": "code",
      "execution_count": null,
      "metadata": {
        "id": "Si-BNruRUGK3"
      },
      "outputs": [],
      "source": []
    }
  ],
  "metadata": {
    "colab": {
      "provenance": []
    },
    "gpuClass": "standard",
    "kernelspec": {
      "display_name": "Python 3 (ipykernel)",
      "language": "python",
      "name": "python3"
    },
    "language_info": {
      "codemirror_mode": {
        "name": "ipython",
        "version": 3
      },
      "file_extension": ".py",
      "mimetype": "text/x-python",
      "name": "python",
      "nbconvert_exporter": "python",
      "pygments_lexer": "ipython3",
      "version": "3.10.4"
    },
    "nteract": {
      "version": "0.28.0"
    }
  },
  "nbformat": 4,
  "nbformat_minor": 0
}